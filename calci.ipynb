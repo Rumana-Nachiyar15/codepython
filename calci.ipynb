{
  "nbformat": 4,
  "nbformat_minor": 0,
  "metadata": {
    "colab": {
      "provenance": []
    },
    "kernelspec": {
      "name": "python3",
      "display_name": "Python 3"
    },
    "language_info": {
      "name": "python"
    }
  },
  "cells": [
    {
      "cell_type": "code",
      "execution_count": 1,
      "metadata": {
        "colab": {
          "base_uri": "https://localhost:8080/"
        },
        "id": "Ca8_XG5596gQ",
        "outputId": "926644cf-a51e-4a6e-eb19-862c377634f2"
      },
      "outputs": [
        {
          "output_type": "stream",
          "name": "stdout",
          "text": [
            "Enter the first number: 17\n",
            "Enter the second number: 100\n",
            "Choose an operation:\n",
            "1. Addition\n",
            "2. Subtraction\n",
            "3. Multiplication\n",
            "4. Division\n",
            "Enter choice (1/2/3/4):4\n",
            "17.0 / 100.0 = 0.17\n"
          ]
        }
      ],
      "source": [
        "# Function to perform addition\n",
        "def add(x, y):\n",
        "    return x + y\n",
        "\n",
        "# Function to perform subtraction\n",
        "def subtract(x, y):\n",
        "    return x - y\n",
        "\n",
        "# Function to perform multiplication\n",
        "def multiply(x, y):\n",
        "    return x * y\n",
        "\n",
        "# Function to perform division\n",
        "def divide(x, y):\n",
        "    if y == 0:\n",
        "        return \"Cannot divide by zero\"\n",
        "    return x / y\n",
        "\n",
        "# Input from the user\n",
        "num1 = float(input(\"Enter the first number: \"))\n",
        "num2 = float(input(\"Enter the second number: \"))\n",
        "\n",
        "print(\"Choose an operation:\")\n",
        "print(\"1. Addition\")\n",
        "print(\"2. Subtraction\")\n",
        "print(\"3. Multiplication\")\n",
        "print(\"4. Division\")\n",
        "\n",
        "choice = input(\"Enter choice (1/2/3/4):\")\n",
        "\n",
        "if choice in ('1', '2', '3', '4'):\n",
        "    if choice == '1':\n",
        "        result = add(num1, num2)\n",
        "        operation = \"+\"\n",
        "    elif choice == '2':\n",
        "        result = subtract(num1, num2)\n",
        "        operation = \"-\"\n",
        "    elif choice == '3':\n",
        "        result = multiply(num1, num2)\n",
        "        operation = \"*\"\n",
        "    else:\n",
        "        result = divide(num1, num2)\n",
        "        operation = \"/\"\n",
        "\n",
        "    print(f\"{num1} {operation} {num2} = {result}\")\n",
        "else:\n",
        "    print(\"Invalid input. Please enter a valid operation choice (1/2/3/4).\")\n"
      ]
    }
  ]
}