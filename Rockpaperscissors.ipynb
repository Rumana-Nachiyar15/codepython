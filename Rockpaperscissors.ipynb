{
  "nbformat": 4,
  "nbformat_minor": 0,
  "metadata": {
    "colab": {
      "provenance": []
    },
    "kernelspec": {
      "name": "python3",
      "display_name": "Python 3"
    },
    "language_info": {
      "name": "python"
    }
  },
  "cells": [
    {
      "cell_type": "code",
      "execution_count": 1,
      "metadata": {
        "colab": {
          "base_uri": "https://localhost:8080/"
        },
        "id": "Tnf5XdR6_qh4",
        "outputId": "37c7e531-9902-468b-e957-de0c2f89e5fe"
      },
      "outputs": [
        {
          "output_type": "stream",
          "name": "stdout",
          "text": [
            "Choose rock, paper, or scissors: scissors\n",
            "You chose: scissors\n",
            "Computer chose: paper\n",
            "You win this round!\n",
            "Score - You: 1, Computer: 0\n",
            "Do you want to play again? (yes/no): yes\n",
            "Choose rock, paper, or scissors: paper\n",
            "You chose: paper\n",
            "Computer chose: rock\n",
            "You win this round!\n",
            "Score - You: 2, Computer: 0\n",
            "Do you want to play again? (yes/no): no\n",
            "Thanks for playing!\n"
          ]
        }
      ],
      "source": [
        "import random\n",
        "\n",
        "def get_user_choice():\n",
        "    while True:\n",
        "        user_choice = input(\"Choose rock, paper, or scissors: \").lower()\n",
        "        if user_choice in ['rock', 'paper', 'scissors']:\n",
        "            return user_choice\n",
        "        else:\n",
        "            print(\"Invalid choice. Please choose rock, paper, or scissors.\")\n",
        "\n",
        "def get_computer_choice():\n",
        "    return random.choice(['rock', 'paper', 'scissors'])\n",
        "\n",
        "def determine_winner(user_choice, computer_choice):\n",
        "    if user_choice == computer_choice:\n",
        "        return 'tie'\n",
        "    if (user_choice == 'rock' and computer_choice == 'scissors') or \\\n",
        "       (user_choice == 'scissors' and computer_choice == 'paper') or \\\n",
        "       (user_choice == 'paper' and computer_choice == 'rock'):\n",
        "        return 'user'\n",
        "    else:\n",
        "        return 'computer'\n",
        "\n",
        "user_score = 0\n",
        "computer_score = 0\n",
        "\n",
        "while True:\n",
        "    user_choice = get_user_choice()\n",
        "    computer_choice = get_computer_choice()\n",
        "    print(f\"You chose: {user_choice}\")\n",
        "    print(f\"Computer chose: {computer_choice}\")\n",
        "\n",
        "    winner = determine_winner(user_choice, computer_choice)\n",
        "    if winner == 'user':\n",
        "        user_score += 1\n",
        "        print(\"You win this round!\")\n",
        "    elif winner == 'computer':\n",
        "        computer_score += 1\n",
        "        print(\"Computer wins this round!\")\n",
        "    else:\n",
        "        print(\"It's a tie this round!\")\n",
        "\n",
        "    print(f\"Score - You: {user_score}, Computer: {computer_score}\")\n",
        "\n",
        "    play_again = input(\"Do you want to play again? (yes/no): \").lower()\n",
        "    if play_again != 'yes':\n",
        "        break\n",
        "\n",
        "print(\"Thanks for playing!\")\n"
      ]
    }
  ]
}