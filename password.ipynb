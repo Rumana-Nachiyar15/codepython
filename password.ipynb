{
  "nbformat": 4,
  "nbformat_minor": 0,
  "metadata": {
    "colab": {
      "provenance": []
    },
    "kernelspec": {
      "name": "python3",
      "display_name": "Python 3"
    },
    "language_info": {
      "name": "python"
    }
  },
  "cells": [
    {
      "cell_type": "code",
      "execution_count": 5,
      "metadata": {
        "colab": {
          "base_uri": "https://localhost:8080/"
        },
        "id": "NWbLNnU8Ak_t",
        "outputId": "07a69227-3bb9-4ba0-f3f7-b347510f2cb5"
      },
      "outputs": [
        {
          "name": "stdout",
          "output_type": "stream",
          "text": [
            "Password Generator\n",
            "Enter the desired password length: 8\n",
            "Include letters? (yes/no): yes\n",
            "Include numbers? (yes/no): yes\n",
            "Include symbols? (yes/no): yes\n",
            "Generated Password: LqVPj:w$\n",
            "Generate another password? (yes/no): no\n"
          ]
        }
      ],
      "source": [
        "import random\n",
        "import string\n",
        "\n",
        "def generate_password(length, use_letters, use_numbers, use_symbols):\n",
        "    characters = \"\"\n",
        "    if use_letters:\n",
        "        characters += string.ascii_letters\n",
        "    if use_numbers:\n",
        "        characters += string.digits\n",
        "    if use_symbols:\n",
        "        characters += string.punctuation\n",
        "\n",
        "    if not characters:\n",
        "        print(\"Please select at least one character type.\")\n",
        "        return None\n",
        "\n",
        "    password = ''.join(random.choice(characters) for _ in range(length))\n",
        "    return password\n",
        "\n",
        "def main():\n",
        "    print(\"Password Generator\")\n",
        "\n",
        "    while True:\n",
        "        try:\n",
        "            length = int(input(\"Enter the desired password length: \"))\n",
        "            use_letters = input(\"Include letters? (yes/no): \").lower() == \"yes\"\n",
        "            use_numbers = input(\"Include numbers? (yes/no): \").lower() == \"yes\"\n",
        "            use_symbols = input(\"Include symbols? (yes/no): \").lower() == \"yes\"\n",
        "\n",
        "            password = generate_password(length, use_letters, use_numbers, use_symbols)\n",
        "\n",
        "            if password:\n",
        "                print(f\"Generated Password: {password}\")\n",
        "            else:\n",
        "                print(\"Please try again.\")\n",
        "        except ValueError:\n",
        "            print(\"Invalid input. Password length should be an integer.\")\n",
        "\n",
        "        another = input(\"Generate another password? (yes/no): \").lower()\n",
        "        if another != 'yes':\n",
        "            break\n",
        "\n",
        "if __name__ == \"__main__\":\n",
        "    main()\n",
        "\n",
        "\n"
      ]
    },
    {
      "cell_type": "code",
      "source": [],
      "metadata": {
        "id": "ozVI-zaXAty-"
      },
      "execution_count": null,
      "outputs": []
    }
  ]
}